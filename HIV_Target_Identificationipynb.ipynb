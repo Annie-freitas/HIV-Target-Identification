{
  "nbformat": 4,
  "nbformat_minor": 0,
  "metadata": {
    "colab": {
      "provenance": []
    },
    "kernelspec": {
      "name": "python3",
      "display_name": "Python 3"
    },
    "language_info": {
      "name": "python"
    }
  },
  "cells": [
    {
      "cell_type": "code",
      "source": [
        "# Install DeepChem if not installed\n",
        "!pip install --quiet deepchem tensorflow rdkit-pypi\n",
        "\n",
        "# Import necessary libraries\n",
        "import deepchem as dc\n",
        "import numpy as np\n",
        "\n"
      ],
      "metadata": {
        "id": "9Bjkj4QjbZme"
      },
      "execution_count": null,
      "outputs": []
    },
    {
      "cell_type": "code",
      "source": [
        "# Load a molecular dataset (HIV dataset from DeepChem)\n",
        "tasks, datasets, transformers = dc.molnet.load_hiv(featurizer='GraphConv')\n",
        "\n",
        "# Split dataset into training, validation, and test sets\n",
        "train_dataset, valid_dataset, test_dataset = datasets\n",
        "\n",
        "\n"
      ],
      "metadata": {
        "colab": {
          "base_uri": "https://localhost:8080/"
        },
        "id": "0mbHR50YbuVC",
        "outputId": "0c474c42-f93a-4b63-8745-82d7bbd99cfa"
      },
      "execution_count": null,
      "outputs": [
        {
          "output_type": "stream",
          "name": "stderr",
          "text": [
            "[22:37:30] Explicit valence for atom # 3 Al, 6, is greater than permitted\n",
            "WARNING:deepchem.feat.base_classes:Failed to featurize datapoint 137, None. Appending empty array\n",
            "WARNING:deepchem.feat.base_classes:Exception message: Python argument types in\n",
            "    rdkit.Chem.rdmolfiles.CanonicalRankAtoms(NoneType)\n",
            "did not match C++ signature:\n",
            "    CanonicalRankAtoms(RDKit::ROMol mol, bool breakTies=True, bool includeChirality=True, bool includeIsotopes=True, bool includeAtomMaps=True, bool includeChiralPresence=False)\n",
            "[22:37:31] Explicit valence for atom # 5 B, 5, is greater than permitted\n",
            "WARNING:deepchem.feat.base_classes:Failed to featurize datapoint 987, None. Appending empty array\n",
            "WARNING:deepchem.feat.base_classes:Exception message: Python argument types in\n",
            "    rdkit.Chem.rdmolfiles.CanonicalRankAtoms(NoneType)\n",
            "did not match C++ signature:\n",
            "    CanonicalRankAtoms(RDKit::ROMol mol, bool breakTies=True, bool includeChirality=True, bool includeIsotopes=True, bool includeAtomMaps=True, bool includeChiralPresence=False)\n",
            "WARNING:deepchem.feat.base_classes:Exception message: setting an array element with a sequence. The requested array has an inhomogeneous shape after 1 dimensions. The detected shape was (8192,) + inhomogeneous part.\n",
            "[22:37:57] Explicit valence for atom # 16 Al, 9, is greater than permitted\n",
            "WARNING:deepchem.feat.base_classes:Failed to featurize datapoint 4690, None. Appending empty array\n",
            "WARNING:deepchem.feat.base_classes:Exception message: Python argument types in\n",
            "    rdkit.Chem.rdmolfiles.CanonicalRankAtoms(NoneType)\n",
            "did not match C++ signature:\n",
            "    CanonicalRankAtoms(RDKit::ROMol mol, bool breakTies=True, bool includeChirality=True, bool includeIsotopes=True, bool includeAtomMaps=True, bool includeChiralPresence=False)\n",
            "WARNING:deepchem.feat.base_classes:Exception message: setting an array element with a sequence. The requested array has an inhomogeneous shape after 1 dimensions. The detected shape was (8192,) + inhomogeneous part.\n",
            "[22:38:11] Explicit valence for atom # 4 Al, 9, is greater than permitted\n",
            "WARNING:deepchem.feat.base_classes:Failed to featurize datapoint 1909, None. Appending empty array\n",
            "WARNING:deepchem.feat.base_classes:Exception message: Python argument types in\n",
            "    rdkit.Chem.rdmolfiles.CanonicalRankAtoms(NoneType)\n",
            "did not match C++ signature:\n",
            "    CanonicalRankAtoms(RDKit::ROMol mol, bool breakTies=True, bool includeChirality=True, bool includeIsotopes=True, bool includeAtomMaps=True, bool includeChiralPresence=False)\n",
            "WARNING:deepchem.feat.base_classes:Exception message: setting an array element with a sequence. The requested array has an inhomogeneous shape after 1 dimensions. The detected shape was (8192,) + inhomogeneous part.\n",
            "[22:38:40] Explicit valence for atom # 12 Al, 7, is greater than permitted\n",
            "WARNING:deepchem.feat.base_classes:Failed to featurize datapoint 6208, None. Appending empty array\n",
            "WARNING:deepchem.feat.base_classes:Exception message: Python argument types in\n",
            "    rdkit.Chem.rdmolfiles.CanonicalRankAtoms(NoneType)\n",
            "did not match C++ signature:\n",
            "    CanonicalRankAtoms(RDKit::ROMol mol, bool breakTies=True, bool includeChirality=True, bool includeIsotopes=True, bool includeAtomMaps=True, bool includeChiralPresence=False)\n",
            "[22:38:40] Explicit valence for atom # 13 Al, 7, is greater than permitted\n",
            "WARNING:deepchem.feat.base_classes:Failed to featurize datapoint 6209, None. Appending empty array\n",
            "WARNING:deepchem.feat.base_classes:Exception message: Python argument types in\n",
            "    rdkit.Chem.rdmolfiles.CanonicalRankAtoms(NoneType)\n",
            "did not match C++ signature:\n",
            "    CanonicalRankAtoms(RDKit::ROMol mol, bool breakTies=True, bool includeChirality=True, bool includeIsotopes=True, bool includeAtomMaps=True, bool includeChiralPresence=False)\n",
            "WARNING:deepchem.feat.base_classes:Exception message: setting an array element with a sequence. The requested array has an inhomogeneous shape after 1 dimensions. The detected shape was (8192,) + inhomogeneous part.\n",
            "[22:38:50] WARNING: not removing hydrogen atom without neighbors\n",
            "[22:38:50] WARNING: not removing hydrogen atom without neighbors\n",
            "[22:38:52] Explicit valence for atom # 6 Ge, 5, is greater than permitted\n",
            "WARNING:deepchem.feat.base_classes:Failed to featurize datapoint 2960, None. Appending empty array\n",
            "WARNING:deepchem.feat.base_classes:Exception message: Python argument types in\n",
            "    rdkit.Chem.rdmolfiles.CanonicalRankAtoms(NoneType)\n",
            "did not match C++ signature:\n",
            "    CanonicalRankAtoms(RDKit::ROMol mol, bool breakTies=True, bool includeChirality=True, bool includeIsotopes=True, bool includeAtomMaps=True, bool includeChiralPresence=False)\n",
            "WARNING:deepchem.feat.base_classes:Exception message: setting an array element with a sequence. The requested array has an inhomogeneous shape after 1 dimensions. The detected shape was (8192,) + inhomogeneous part.\n",
            "[22:39:26] WARNING: not removing hydrogen atom without neighbors\n",
            "[22:39:26] WARNING: not removing hydrogen atom without neighbors\n"
          ]
        }
      ]
    },
    {
      "cell_type": "code",
      "source": [
        "# Create a Graph Convolutional Model\n",
        "model = dc.models.GraphConvModel(\n",
        "    n_tasks=len(tasks),\n",
        "    mode='classification',\n",
        "    batch_size=32,\n",
        "    learning_rate=0.001\n",
        ")\n",
        "\n",
        "# Train the model\n",
        "model.fit(train_dataset, nb_epoch=10)\n"
      ],
      "metadata": {
        "colab": {
          "base_uri": "https://localhost:8080/"
        },
        "id": "p31VhNtRbsyc",
        "outputId": "19a2f6d6-5447-43f6-bdb7-ab8d381111cb"
      },
      "execution_count": null,
      "outputs": [
        {
          "output_type": "execute_result",
          "data": {
            "text/plain": [
              "0.8557519912719727"
            ]
          },
          "metadata": {},
          "execution_count": 24
        }
      ]
    },
    {
      "cell_type": "code",
      "source": [
        "# Evaluate the model\n",
        "metric = dc.metrics.Metric(dc.metrics.roc_auc_score)\n",
        "train_score = model.evaluate(train_dataset, [metric], transformers)\n",
        "valid_score = model.evaluate(valid_dataset, [metric], transformers)\n",
        "\n",
        "print(\"Train ROC-AUC:\", train_score[\"roc_auc_score\"])\n",
        "print(\"Validation ROC-AUC:\", valid_score[\"roc_auc_score\"])"
      ],
      "metadata": {
        "colab": {
          "base_uri": "https://localhost:8080/"
        },
        "id": "styQgJ8kb4IO",
        "outputId": "37060265-17c3-4fee-ed81-902e0f62be64"
      },
      "execution_count": null,
      "outputs": [
        {
          "output_type": "stream",
          "name": "stdout",
          "text": [
            "Train ROC-AUC: 0.8461531821237441\n",
            "Validation ROC-AUC: 0.7762494984855028\n"
          ]
        }
      ]
    },
    {
      "cell_type": "code",
      "source": [
        "test_score = model.evaluate(test_dataset, [metric], transformers)\n",
        "print(\"Test ROC-AUC:\", test_score[\"roc_auc_score\"])\n"
      ],
      "metadata": {
        "id": "jq8tFNQhg-zt",
        "outputId": "1d760de7-c735-432f-c386-dd7df90758aa",
        "colab": {
          "base_uri": "https://localhost:8080/"
        }
      },
      "execution_count": null,
      "outputs": [
        {
          "output_type": "stream",
          "name": "stdout",
          "text": [
            "Test ROC-AUC: 0.6863018197272341\n"
          ]
        }
      ]
    }
  ]
}